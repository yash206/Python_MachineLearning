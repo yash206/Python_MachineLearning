{
  "nbformat": 4,
  "nbformat_minor": 0,
  "metadata": {
    "kernelspec": {
      "display_name": "Python 3",
      "language": "python",
      "name": "python3"
    },
    "language_info": {
      "codemirror_mode": {
        "name": "ipython",
        "version": 3
      },
      "file_extension": ".py",
      "mimetype": "text/x-python",
      "name": "python",
      "nbconvert_exporter": "python",
      "pygments_lexer": "ipython3",
      "version": "3.8.3"
    },
    "colab": {
      "name": "Project Clustering Blobs.ipynb",
      "provenance": []
    }
  },
  "cells": [
    {
      "cell_type": "markdown",
      "metadata": {
        "id": "K6uszEF-tg6Q"
      },
      "source": [
        "# Unsupervised Machine Learning - KMeans\n",
        "\n",
        "Support vector machines (SVMs) are a set of supervised learning methods used for classification, regression and outliers detection. SVMs are one of the most robust prediction methods. \n",
        "\n",
        "Sources: \n",
        "[sklearn](https://scikit-learn.org/stable/modules/generated/sklearn.cluster.KMeans.html?highlight=kmeans#sklearn.cluster.KMeans), [wikipedia](https://en.wikipedia.org/wiki/K-means_clustering)"
      ]
    },
    {
      "cell_type": "markdown",
      "metadata": {
        "id": "fUB89AR6C5Br"
      },
      "source": [
        "![kmeans.png](https://www.mathworks.com/matlabcentral/mlc-downloads/downloads/submissions/52579/versions/9/screenshot.jpg)"
      ]
    },
    {
      "cell_type": "code",
      "metadata": {
        "id": "RkzeSO0SLjmJ"
      },
      "source": [
        ""
      ],
      "execution_count": null,
      "outputs": []
    },
    {
      "cell_type": "code",
      "metadata": {
        "id": "ReZfyNMrLjmJ"
      },
      "source": [
        "import pandas as pd\n",
        "import numpy as np\n",
        "import matplotlib.pyplot as plt\n",
        "from sklearn import datasets\n"
      ],
      "execution_count": 9,
      "outputs": []
    },
    {
      "cell_type": "code",
      "metadata": {
        "id": "O35BACRxLjmK"
      },
      "source": [
        "# Take make moons in built dataset\n",
        "\n",
        "data_ = datasets.make_moons(123)"
      ],
      "execution_count": 75,
      "outputs": []
    },
    {
      "cell_type": "code",
      "metadata": {
        "colab": {
          "base_uri": "https://localhost:8080/"
        },
        "id": "F4Uk7ILwLjmK",
        "outputId": "90d4c500-a35b-4981-8627-1864990ab49c"
      },
      "source": [
        "# check the dataset\n",
        "\n",
        "data_"
      ],
      "execution_count": 76,
      "outputs": [
        {
          "output_type": "execute_result",
          "data": {
            "text/plain": [
              "(array([[ 1.93571682e+00,  1.47247913e-01],\n",
              "        [ 1.67927334e+00, -2.33885366e-01],\n",
              "        [ 2.15880193e-01, -1.20609482e-01],\n",
              "        [ 1.05512918e-01,  5.29062070e-02],\n",
              "        [ 1.99469988e+00,  3.97179003e-01],\n",
              "        [-9.94521895e-01,  1.04528463e-01],\n",
              "        [ 4.73646192e-02,  1.95885168e-01],\n",
              "        [ 5.44639035e-01,  8.38670568e-01],\n",
              "        [ 1.12839836e+00, -4.91722674e-01],\n",
              "        [ 1.75113193e+00, -1.60152121e-01],\n",
              "        [ 1.37672789e+00, -4.26323968e-01],\n",
              "        [-7.07106781e-01,  7.07106781e-01],\n",
              "        [ 3.09016994e-01,  9.51056516e-01],\n",
              "        [-9.87688341e-01,  1.56434465e-01],\n",
              "        [-9.78147601e-01,  2.07911691e-01],\n",
              "        [ 1.00000000e+00,  0.00000000e+00],\n",
              "        [ 7.70312258e-01, -4.73264374e-01],\n",
              "        [ 1.87028524e+00,  7.45193205e-03],\n",
              "        [ 2.48868069e-01, -1.60152121e-01],\n",
              "        [ 8.66025404e-01,  5.00000000e-01],\n",
              "        [ 6.23272106e-01, -4.26323968e-01],\n",
              "        [ 6.42831810e-02,  1.47247913e-01],\n",
              "        [ 6.69130606e-01,  7.43144825e-01],\n",
              "        [ 2.83847812e-01, -1.97944155e-01],\n",
              "        [ 9.74252086e-01, -4.99668468e-01],\n",
              "        [-3.58367950e-01,  9.33580426e-01],\n",
              "        [ 3.59406821e-01, -2.67880446e-01],\n",
              "        [ 1.95263538e+00,  1.95885168e-01],\n",
              "        [ 1.97885569e+00,  2.95447934e-01],\n",
              "        [ 4.85207198e-01, -3.57314628e-01],\n",
              "        [ 6.71457618e-01, -4.44489229e-01],\n",
              "        [-6.29320391e-01,  7.77145961e-01],\n",
              "        [-5.00000000e-01,  8.66025404e-01],\n",
              "        [-9.98629535e-01,  5.23359562e-02],\n",
              "        [ 1.55824372e+00, -3.29677014e-01],\n",
              "        [ 1.07717546e+00, -4.97017526e-01],\n",
              "        [ 1.64059318e+00, -2.67880446e-01],\n",
              "        [ 9.13545458e-01,  4.06736643e-01],\n",
              "        [ 2.00000000e+00,  5.00000000e-01],\n",
              "        [ 1.02574791e+00, -4.99668468e-01],\n",
              "        [ 5.00000000e-01,  8.66025404e-01],\n",
              "        [ 9.33580426e-01,  3.58367950e-01],\n",
              "        [ 3.58367950e-01,  9.33580426e-01],\n",
              "        [-2.58819045e-01,  9.65925826e-01],\n",
              "        [ 7.20514365e-01, -4.60149874e-01],\n",
              "        [ 8.71601645e-01, -4.91722674e-01],\n",
              "        [-4.06736643e-01,  9.13545458e-01],\n",
              "        [ 1.98808790e+00,  3.46109423e-01],\n",
              "        [-2.07911691e-01,  9.78147601e-01],\n",
              "        [ 5.76085609e-01, -4.05702263e-01],\n",
              "        [ 1.29714759e-01,  7.45193205e-03],\n",
              "        [-6.69130606e-01,  7.43144825e-01],\n",
              "        [ 1.99867409e+00,  4.48521245e-01],\n",
              "        [ 1.42391439e+00, -4.05702263e-01],\n",
              "        [ 1.32591012e-03,  4.48521245e-01],\n",
              "        [ 7.43144825e-01,  6.69130606e-01],\n",
              "        [ 5.87785252e-01,  8.09016994e-01],\n",
              "        [ 8.09016994e-01,  5.87785252e-01],\n",
              "        [ 4.53990500e-01,  8.91006524e-01],\n",
              "        [ 2.11443149e-02,  2.95447934e-01],\n",
              "        [ 0.00000000e+00,  5.00000000e-01],\n",
              "        [ 6.29320391e-01,  7.77145961e-01],\n",
              "        [ 6.12323400e-17,  1.00000000e+00],\n",
              "        [ 9.51056516e-01,  3.09016994e-01],\n",
              "        [-7.77145961e-01,  6.29320391e-01],\n",
              "        [ 8.36830955e-02,  9.95460943e-02],\n",
              "        [-8.66025404e-01,  5.00000000e-01],\n",
              "        [ 2.58819045e-01,  9.65925826e-01],\n",
              "        [ 1.22968774e+00, -4.73264374e-01],\n",
              "        [ 1.19121039e-02,  3.46109423e-01],\n",
              "        [ 1.71615219e+00, -1.97944155e-01],\n",
              "        [ 1.78411981e+00, -1.20609482e-01],\n",
              "        [-9.33580426e-01,  3.58367950e-01],\n",
              "        [ 8.91006524e-01,  4.53990500e-01],\n",
              "        [ 3.29722752e-02,  2.45328880e-01],\n",
              "        [ 1.56224440e-01, -3.66961940e-02],\n",
              "        [-5.44639035e-01,  8.38670568e-01],\n",
              "        [ 1.81502834e+00, -7.94210982e-02],\n",
              "        [ 7.07106781e-01,  7.07106781e-01],\n",
              "        [-5.87785252e-01,  8.09016994e-01],\n",
              "        [-9.51056516e-01,  3.09016994e-01],\n",
              "        [-5.23359562e-02,  9.98629535e-01],\n",
              "        [ 3.20726661e-01, -2.33885366e-01],\n",
              "        [ 1.56434465e-01,  9.87688341e-01],\n",
              "        [-7.43144825e-01,  6.69130606e-01],\n",
              "        [ 1.84971662e-01, -7.94210982e-02],\n",
              "        [ 1.96702772e+00,  2.45328880e-01],\n",
              "        [-1.00000000e+00,  1.22464680e-16],\n",
              "        [ 1.60021428e+00, -2.99839245e-01],\n",
              "        [ 9.94521895e-01,  1.04528463e-01],\n",
              "        [ 4.41756278e-01, -3.29677014e-01],\n",
              "        [ 8.20719241e-01, -4.83797952e-01],\n",
              "        [-8.38670568e-01,  5.44639035e-01],\n",
              "        [-9.13545458e-01,  4.06736643e-01],\n",
              "        [ 9.22824538e-01, -4.97017526e-01],\n",
              "        [ 1.51479280e+00, -3.57314628e-01],\n",
              "        [ 5.30023257e-01, -3.82678798e-01],\n",
              "        [ 5.30012439e-03,  3.97179003e-01],\n",
              "        [-8.91006524e-01,  4.53990500e-01],\n",
              "        [ 9.65925826e-01,  2.58819045e-01],\n",
              "        [ 1.17928076e+00, -4.83797952e-01],\n",
              "        [ 9.78147601e-01,  2.07911691e-01],\n",
              "        [-8.09016994e-01,  5.87785252e-01],\n",
              "        [ 4.06736643e-01,  9.13545458e-01],\n",
              "        [ 1.46997674e+00, -3.82678798e-01],\n",
              "        [ 9.87688341e-01,  1.56434465e-01],\n",
              "        [ 5.23359562e-02,  9.98629535e-01],\n",
              "        [ 1.91631690e+00,  9.95460943e-02],\n",
              "        [-1.04528463e-01,  9.94521895e-01],\n",
              "        [-4.53990500e-01,  8.91006524e-01],\n",
              "        [ 8.38670568e-01,  5.44639035e-01],\n",
              "        [ 9.98629535e-01,  5.23359562e-02],\n",
              "        [ 7.77145961e-01,  6.29320391e-01],\n",
              "        [ 2.07911691e-01,  9.78147601e-01],\n",
              "        [ 1.27948563e+00, -4.60149874e-01],\n",
              "        [ 1.32854238e+00, -4.44489229e-01],\n",
              "        [-9.65925826e-01,  2.58819045e-01],\n",
              "        [ 1.89448708e+00,  5.29062070e-02],\n",
              "        [ 3.99785719e-01, -2.99839245e-01],\n",
              "        [ 1.04528463e-01,  9.94521895e-01],\n",
              "        [-1.56434465e-01,  9.87688341e-01],\n",
              "        [ 1.84377556e+00, -3.66961940e-02],\n",
              "        [-3.09016994e-01,  9.51056516e-01]]),\n",
              " array([1, 1, 1, 1, 1, 0, 1, 0, 1, 1, 1, 0, 0, 0, 0, 0, 1, 1, 1, 0, 1, 1,\n",
              "        0, 1, 1, 0, 1, 1, 1, 1, 1, 0, 0, 0, 1, 1, 1, 0, 1, 1, 0, 0, 0, 0,\n",
              "        1, 1, 0, 1, 0, 1, 1, 0, 1, 1, 1, 0, 0, 0, 0, 1, 1, 0, 0, 0, 0, 1,\n",
              "        0, 0, 1, 1, 1, 1, 0, 0, 1, 1, 0, 1, 0, 0, 0, 0, 1, 0, 0, 1, 1, 0,\n",
              "        1, 0, 1, 1, 0, 0, 1, 1, 1, 1, 0, 0, 1, 0, 0, 0, 1, 0, 0, 1, 0, 0,\n",
              "        0, 0, 0, 0, 1, 1, 0, 1, 1, 0, 0, 1, 0]))"
            ]
          },
          "metadata": {
            "tags": []
          },
          "execution_count": 76
        }
      ]
    },
    {
      "cell_type": "code",
      "metadata": {
        "id": "j2pMTNY8LjmL"
      },
      "source": [
        "# create input dataframe\n",
        "\n",
        "inputData = pd.DataFrame(data = data_[0])"
      ],
      "execution_count": 77,
      "outputs": []
    },
    {
      "cell_type": "code",
      "metadata": {
        "colab": {
          "base_uri": "https://localhost:8080/",
          "height": 203
        },
        "id": "dm9jeArxLjmL",
        "outputId": "a14cfdee-35c0-4e30-be41-38ef254359af"
      },
      "source": [
        "inputData.head()"
      ],
      "execution_count": 78,
      "outputs": [
        {
          "output_type": "execute_result",
          "data": {
            "text/html": [
              "<div>\n",
              "<style scoped>\n",
              "    .dataframe tbody tr th:only-of-type {\n",
              "        vertical-align: middle;\n",
              "    }\n",
              "\n",
              "    .dataframe tbody tr th {\n",
              "        vertical-align: top;\n",
              "    }\n",
              "\n",
              "    .dataframe thead th {\n",
              "        text-align: right;\n",
              "    }\n",
              "</style>\n",
              "<table border=\"1\" class=\"dataframe\">\n",
              "  <thead>\n",
              "    <tr style=\"text-align: right;\">\n",
              "      <th></th>\n",
              "      <th>0</th>\n",
              "      <th>1</th>\n",
              "    </tr>\n",
              "  </thead>\n",
              "  <tbody>\n",
              "    <tr>\n",
              "      <th>0</th>\n",
              "      <td>1.935717</td>\n",
              "      <td>0.147248</td>\n",
              "    </tr>\n",
              "    <tr>\n",
              "      <th>1</th>\n",
              "      <td>1.679273</td>\n",
              "      <td>-0.233885</td>\n",
              "    </tr>\n",
              "    <tr>\n",
              "      <th>2</th>\n",
              "      <td>0.215880</td>\n",
              "      <td>-0.120609</td>\n",
              "    </tr>\n",
              "    <tr>\n",
              "      <th>3</th>\n",
              "      <td>0.105513</td>\n",
              "      <td>0.052906</td>\n",
              "    </tr>\n",
              "    <tr>\n",
              "      <th>4</th>\n",
              "      <td>1.994700</td>\n",
              "      <td>0.397179</td>\n",
              "    </tr>\n",
              "  </tbody>\n",
              "</table>\n",
              "</div>"
            ],
            "text/plain": [
              "          0         1\n",
              "0  1.935717  0.147248\n",
              "1  1.679273 -0.233885\n",
              "2  0.215880 -0.120609\n",
              "3  0.105513  0.052906\n",
              "4  1.994700  0.397179"
            ]
          },
          "metadata": {
            "tags": []
          },
          "execution_count": 78
        }
      ]
    },
    {
      "cell_type": "code",
      "metadata": {
        "colab": {
          "base_uri": "https://localhost:8080/",
          "height": 203
        },
        "id": "MOIZN9S-LjmM",
        "outputId": "21c1ee72-8acd-48c2-c416-eaa19b798400"
      },
      "source": [
        "# create output dataframe\n",
        "\n",
        "outputData = pd.DataFrame(data = data_[1])\n",
        "outputData.head()"
      ],
      "execution_count": 79,
      "outputs": [
        {
          "output_type": "execute_result",
          "data": {
            "text/html": [
              "<div>\n",
              "<style scoped>\n",
              "    .dataframe tbody tr th:only-of-type {\n",
              "        vertical-align: middle;\n",
              "    }\n",
              "\n",
              "    .dataframe tbody tr th {\n",
              "        vertical-align: top;\n",
              "    }\n",
              "\n",
              "    .dataframe thead th {\n",
              "        text-align: right;\n",
              "    }\n",
              "</style>\n",
              "<table border=\"1\" class=\"dataframe\">\n",
              "  <thead>\n",
              "    <tr style=\"text-align: right;\">\n",
              "      <th></th>\n",
              "      <th>0</th>\n",
              "    </tr>\n",
              "  </thead>\n",
              "  <tbody>\n",
              "    <tr>\n",
              "      <th>0</th>\n",
              "      <td>1</td>\n",
              "    </tr>\n",
              "    <tr>\n",
              "      <th>1</th>\n",
              "      <td>1</td>\n",
              "    </tr>\n",
              "    <tr>\n",
              "      <th>2</th>\n",
              "      <td>1</td>\n",
              "    </tr>\n",
              "    <tr>\n",
              "      <th>3</th>\n",
              "      <td>1</td>\n",
              "    </tr>\n",
              "    <tr>\n",
              "      <th>4</th>\n",
              "      <td>1</td>\n",
              "    </tr>\n",
              "  </tbody>\n",
              "</table>\n",
              "</div>"
            ],
            "text/plain": [
              "   0\n",
              "0  1\n",
              "1  1\n",
              "2  1\n",
              "3  1\n",
              "4  1"
            ]
          },
          "metadata": {
            "tags": []
          },
          "execution_count": 79
        }
      ]
    },
    {
      "cell_type": "code",
      "metadata": {
        "colab": {
          "base_uri": "https://localhost:8080/",
          "height": 282
        },
        "id": "s0uLxoy4LjmM",
        "outputId": "083c997f-4de2-402f-f421-295d5e4ead6a"
      },
      "source": [
        "# create a scatter plot for inputData set\n",
        "\n",
        "plt.scatter(inputData[0], inputData[1])"
      ],
      "execution_count": 80,
      "outputs": [
        {
          "output_type": "execute_result",
          "data": {
            "text/plain": [
              "<matplotlib.collections.PathCollection at 0x7ff74a41dc50>"
            ]
          },
          "metadata": {
            "tags": []
          },
          "execution_count": 80
        },
        {
          "output_type": "display_data",
          "data": {
            "image/png": "[encoded data removed]",
            "text/plain": [
              "<Figure size 432x288 with 1 Axes>"
            ]
          },
          "metadata": {
            "tags": [],
            "needs_background": "light"
          }
        }
      ]
    },
    {
      "cell_type": "code",
      "metadata": {
        "colab": {
          "base_uri": "https://localhost:8080/",
          "height": 282
        },
        "id": "BPAWKWTeLjmM",
        "outputId": "7a8eba75-6958-44e2-bff1-d66e0d3bc0bc"
      },
      "source": [
        "# create a scatter plot for inputData set with outputData color\n",
        "\n",
        "plt.scatter(inputData[0], inputData[1], c=outputData)"
      ],
      "execution_count": 81,
      "outputs": [
        {
          "output_type": "execute_result",
          "data": {
            "text/plain": [
              "<matplotlib.collections.PathCollection at 0x7ff74a38f9d0>"
            ]
          },
          "metadata": {
            "tags": []
          },
          "execution_count": 81
        },
        {
          "output_type": "display_data",
          "data": {
            "image/png": "[encoded data removed]",
            "text/plain": [
              "<Figure size 432x288 with 1 Axes>"
            ]
          },
          "metadata": {
            "tags": [],
            "needs_background": "light"
          }
        }
      ]
    },
    {
      "cell_type": "code",
      "metadata": {
        "id": "QX0dgjmKLjmN"
      },
      "source": [
        ""
      ],
      "execution_count": null,
      "outputs": []
    },
    {
      "cell_type": "code",
      "metadata": {
        "colab": {
          "base_uri": "https://localhost:8080/"
        },
        "id": "Ds_etlGLLjmN",
        "outputId": "b455265c-a920-435f-d84d-f07c28c235ad"
      },
      "source": [
        "# Call the sklearn Kmeans and make a model with 200 samples\n",
        "from sklearn.cluster import KMeans as KM\n",
        "\n",
        "model = KM(n_clusters=6)\n",
        "model.fit(inputData)\n",
        "\n",
        "#model_fit\n"
      ],
      "execution_count": 97,
      "outputs": [
        {
          "output_type": "execute_result",
          "data": {
            "text/plain": [
              "KMeans(algorithm='auto', copy_x=True, init='k-means++', max_iter=300,\n",
              "       n_clusters=6, n_init=10, n_jobs=None, precompute_distances='auto',\n",
              "       random_state=None, tol=0.0001, verbose=0)"
            ]
          },
          "metadata": {
            "tags": []
          },
          "execution_count": 97
        }
      ]
    },
    {
      "cell_type": "code",
      "metadata": {
        "colab": {
          "base_uri": "https://localhost:8080/"
        },
        "id": "EaGQpvT3UZ8D",
        "outputId": "e990d099-4971-440e-88b7-9e5abc62be7a"
      },
      "source": [
        "# check for labels\n",
        "\n",
        "model.labels_"
      ],
      "execution_count": 98,
      "outputs": [
        {
          "output_type": "execute_result",
          "data": {
            "text/plain": [
              "array([3, 3, 2, 2, 3, 4, 2, 5, 1, 3, 1, 4, 0, 4, 4, 1, 1, 3, 2, 5, 1, 2,\n",
              "       5, 2, 1, 0, 2, 3, 3, 2, 1, 4, 0, 4, 1, 1, 3, 5, 3, 1, 5, 5, 0, 0,\n",
              "       1, 1, 0, 3, 0, 1, 2, 4, 3, 1, 0, 5, 5, 5, 0, 2, 0, 5, 0, 5, 4, 2,\n",
              "       4, 0, 1, 2, 3, 3, 4, 5, 2, 2, 4, 3, 5, 4, 4, 0, 2, 0, 4, 2, 3, 4,\n",
              "       3, 5, 2, 1, 4, 4, 1, 1, 2, 2, 4, 5, 1, 5, 4, 0, 1, 5, 0, 3, 0, 0,\n",
              "       5, 1, 5, 0, 1, 1, 4, 3, 2, 0, 0, 3, 0], dtype=int32)"
            ]
          },
          "metadata": {
            "tags": []
          },
          "execution_count": 98
        }
      ]
    },
    {
      "cell_type": "code",
      "metadata": {
        "id": "cXtFlnUyLjmN"
      },
      "source": [
        ""
      ],
      "execution_count": 95,
      "outputs": []
    },
    {
      "cell_type": "code",
      "metadata": {
        "colab": {
          "base_uri": "https://localhost:8080/"
        },
        "id": "Hbh1FZm7LjmN",
        "outputId": "8a44c3e5-2b92-43ab-8a1f-dfefa3aebaf9"
      },
      "source": [
        "# call metrics and check silhoutte score\n",
        "from sklearn import metrics\n",
        "metrics.silhouette_score(inputData, model.labels_)\n"
      ],
      "execution_count": 99,
      "outputs": [
        {
          "output_type": "execute_result",
          "data": {
            "text/plain": [
              "0.4993783865065824"
            ]
          },
          "metadata": {
            "tags": []
          },
          "execution_count": 99
        }
      ]
    },
    {
      "cell_type": "code",
      "metadata": {
        "colab": {
          "base_uri": "https://localhost:8080/",
          "height": 282
        },
        "id": "yjzmX4rkLjmO",
        "outputId": "a959036c-02b1-41ff-8628-5fd561755236"
      },
      "source": [
        "# create a scatter plot for inputData set with model labels color\n",
        "\n",
        "plt.scatter(inputData[0], inputData[1], c=model.labels_)"
      ],
      "execution_count": 101,
      "outputs": [
        {
          "output_type": "execute_result",
          "data": {
            "text/plain": [
              "<matplotlib.collections.PathCollection at 0x7ff74a2dafd0>"
            ]
          },
          "metadata": {
            "tags": []
          },
          "execution_count": 101
        },
        {
          "output_type": "display_data",
          "data": {
            "image/png": "[encoded data removed]",
            "text/plain": [
              "<Figure size 432x288 with 1 Axes>"
            ]
          },
          "metadata": {
            "tags": [],
            "needs_background": "light"
          }
        }
      ]
    },
    {
      "cell_type": "markdown",
      "metadata": {
        "id": "LRFyH3IxWJR9"
      },
      "source": [
        "finding right number of cluster"
      ]
    },
    {
      "cell_type": "code",
      "metadata": {
        "id": "qm1IlTDGLjmO"
      },
      "source": [
        "cluster_range = range(1, 20)\n",
        "error_list = []\n",
        "\n",
        "for i in cluster_range:\n",
        "    model = KMeans(n_clusters=i)\n",
        "    model.fit(inputData)\n",
        "    res = model.inertia_\n",
        "    error_list.append(res)"
      ],
      "execution_count": 102,
      "outputs": []
    },
    {
      "cell_type": "code",
      "metadata": {
        "colab": {
          "base_uri": "https://localhost:8080/",
          "height": 295
        },
        "id": "JxEge4KoLjmO",
        "outputId": "7da4c2ff-2def-4a63-9af0-23d098ce99a9"
      },
      "source": [
        "import matplotlib.pyplot as plt\n",
        "\n",
        "plt.plot(cluster_range, error_list, marker = \"o\", color = \"g\", markersize = 10)\n",
        "plt.xlabel(\"Cluster Range\")\n",
        "plt.ylabel(\"IntraCluster Sum\")\n",
        "plt.title(\"KMeans\")\n",
        "plt.show()"
      ],
      "execution_count": 103,
      "outputs": [
        {
          "output_type": "display_data",
          "data": {
            "image/png": "[encoded data removed]",
            "text/plain": [
              "<Figure size 432x288 with 1 Axes>"
            ]
          },
          "metadata": {
            "tags": [],
            "needs_background": "light"
          }
        }
      ]
    },
    {
      "cell_type": "code",
      "metadata": {
        "id": "kH5MrFNILjmP"
      },
      "source": [
        ""
      ],
      "execution_count": 30,
      "outputs": []
    },
    {
      "cell_type": "code",
      "metadata": {
        "id": "kEwCBzo1LjmP"
      },
      "source": [
        ""
      ],
      "execution_count": 30,
      "outputs": []
    }
  ]
}